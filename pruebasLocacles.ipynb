{
 "cells": [
  {
   "cell_type": "code",
   "execution_count": 11,
   "metadata": {},
   "outputs": [],
   "source": [
    "import numpy as np\n",
    "import scipy.fftpack as fourier\n",
    "import matplotlib\n",
    "import matplotlib.pyplot as plt\n",
    "import scipy.io.wavfile as waves\n",
    "import pyaudio as pa \n",
    "import struct \n",
    "import statsmodels.api as sm\n",
    "from scipy.signal import find_peaks"
   ]
  },
  {
   "cell_type": "code",
   "execution_count": 13,
   "metadata": {},
   "outputs": [],
   "source": [
    "#Definicion de la primera frecuencia de cada nota musical y del array con los nombre de las notas.\n",
    "\n",
    "hzInicialFa = 21.826            \n",
    "hzInicialFaS = 23.125           \n",
    "hzInicialSol = 24.50            \n",
    "hzInicialSolS = 25.96\n",
    "hzInicialLa = 27.50\n",
    "hzInicialLaS = 29.14\n",
    "hzInicialSi = 30.87\n",
    "hzInicialDo = 32.7              \n",
    "hzInicialDoS = 34.65\n",
    "hzInicialRe = 36.71\n",
    "hzInicialReS = 38.89\n",
    "hzInicialMi = 41.2\n",
    "\n",
    "hzIniciales = np.array([hzInicialFa, hzInicialFaS, hzInicialSol, hzInicialSolS, hzInicialLa, hzInicialLaS, hzInicialSi, hzInicialDo, hzInicialDoS, hzInicialRe, hzInicialReS, hzInicialMi], dtype=float)\n",
    "\n",
    "nombreNota = np.array(['Fa','Fa#','Sol','Sol#','La','La#','Si','Do','Do#','Re','Re#','Mi'], dtype = str)"
   ]
  },
  {
   "cell_type": "code",
   "execution_count": 14,
   "metadata": {},
   "outputs": [],
   "source": [
    "#Funciones para conseguir los 0.5 anteriores y los 0.5 seguientes de un Hz\n",
    "\n",
    "def nAnteriores(Hz):\n",
    "    vAnteriores = np.array([], dtype=float)\n",
    "    for i in range(5):\n",
    "        valor = 0.5 - (i/10)\n",
    "        vAnteriores = np.append(vAnteriores, (Hz - valor))\n",
    "    return vAnteriores\n",
    "\n",
    "def nSiguientes(Hz):\n",
    "    vSiguientes = np.array([], dtype=float)\n",
    "    for i in range(5):\n",
    "        valor = (i/10) + 0.1\n",
    "        vSiguientes = np.append(vSiguientes, (Hz + valor))\n",
    "    return vSiguientes\n",
    "\n",
    "#Funciones para acumular los valores anteiores y siguientes.\n",
    "\n",
    "def vAnteriores(Hz):\n",
    "    \n",
    "    valoresAnteriores = np.array([], dtype=float)\n",
    "    valoresAnteriores = np.append(valoresAnteriores, nAnteriores(Hz))\n",
    "    valoresAnteriores = np.append(valoresAnteriores, Hz)\n",
    "    return valoresAnteriores\n",
    "\n",
    "def vSiguientes(Hz):\n",
    "    valoresSiguientes = np.array([], dtype=float)\n",
    "    valoresSiguientes = np.append(valoresSiguientes, nSiguientes(Hz))\n",
    "    return valoresSiguientes"
   ]
  }
 ],
 "metadata": {
  "interpreter": {
   "hash": "e73b0adf4abf1290984411b7e0f7e5c2e85a880195fc8ae108d0876d6497b4f3"
  },
  "kernelspec": {
   "display_name": "Python 3.10.4 64-bit",
   "language": "python",
   "name": "python3"
  },
  "language_info": {
   "codemirror_mode": {
    "name": "ipython",
    "version": 3
   },
   "file_extension": ".py",
   "mimetype": "text/x-python",
   "name": "python",
   "nbconvert_exporter": "python",
   "pygments_lexer": "ipython3",
   "version": "3.10.4"
  },
  "orig_nbformat": 4
 },
 "nbformat": 4,
 "nbformat_minor": 2
}
