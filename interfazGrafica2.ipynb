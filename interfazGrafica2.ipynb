{
 "cells": [
  {
   "cell_type": "code",
   "execution_count": 2,
   "metadata": {},
   "outputs": [],
   "source": [
    "import sys\n",
    "from PyQt5 import uic\n",
    "from PyQt5.QtWidgets import QApplication, QMainWindow"
   ]
  },
  {
   "cell_type": "code",
   "execution_count": 3,
   "metadata": {},
   "outputs": [
    {
     "ename": "SystemExit",
     "evalue": "0",
     "output_type": "error",
     "traceback": [
      "An exception has occurred, use %tb to see the full traceback.\n",
      "\u001b[1;31mSystemExit\u001b[0m\u001b[1;31m:\u001b[0m 0\n"
     ]
    },
    {
     "name": "stderr",
     "output_type": "stream",
     "text": [
      "C:\\Users\\Usuario\\AppData\\Local\\Packages\\PythonSoftwareFoundation.Python.3.10_qbz5n2kfra8p0\\LocalCache\\local-packages\\Python310\\site-packages\\IPython\\core\\interactiveshell.py:3405: UserWarning: To exit: use 'exit', 'quit', or Ctrl-D.\n",
      "  warn(\"To exit: use 'exit', 'quit', or Ctrl-D.\", stacklevel=1)\n"
     ]
    }
   ],
   "source": [
    "class musicSetup_GUI(QMainWindow):\n",
    "    def __init__(self):\n",
    "        super().__init__()\n",
    "        uic.loadUi('gui.ui', self)\n",
    "\n",
    "        #volver invisible el boton\n",
    "        self.mainDetectarNotas.setVisible(False)\n",
    "        self.frame_12.setVisible(True)\n",
    "        \n",
    "\n",
    "        #Botones\n",
    "        self.BdetectarNota.clicked.connect(self.detectarNotas)\n",
    "        self.BacercaDe.clicked.connect(self.acercaDe)\n",
    "\n",
    "    def detectarNotas(self):\n",
    "        self.mainDetectarNotas.setVisible(True)\n",
    "        self.BdetectarNota.setEnabled(False)\n",
    "        self.BacercaDe.setEnabled(True)\n",
    "    \n",
    "    def acercaDe(self):\n",
    "        self.mainDetectarNotas.setVisible(False)\n",
    "        self.BdetectarNota.setEnabled(True)\n",
    "        self.BacercaDe.setEnabled(False)\n",
    "\n",
    "if __name__ == '__main__':\n",
    "    app = QApplication(sys.argv)\n",
    "    window = musicSetup_GUI()\n",
    "    window.show()\n",
    "    sys.exit(app.exec_())"
   ]
  },
  {
   "cell_type": "code",
   "execution_count": 6,
   "metadata": {},
   "outputs": [],
   "source": [
    "#Funciones para conseguir los 0.05 anteriores y los 0.05 seguientes de un Hz\n",
    "\n",
    "def nAnteriores(Hz):\n",
    "    vAnteriores = np.array([], dtype=float)\n",
    "    for i in range(5):\n",
    "        valor = 5/10 - i/10\n",
    "        vAnteriores = np.append(vAnteriores, (Hz - valor))\n",
    "    return vAnteriores\n",
    "\n",
    "def nSiguientes(Hz):\n",
    "    vSiguientes = np.array([], dtype=float)\n",
    "    for i in range(5):\n",
    "        valor = i/10 + 1/10\n",
    "        vSiguientes = np.append(vSiguientes, (Hz + valor))\n",
    "    return vSiguientes\n",
    "\n",
    "#Funciones para acumular los valores anteiores y siguientes.\n",
    "\n",
    "def vAnteriores(Hz):\n",
    "    valoresAnteriores = np.array([], dtype=float)\n",
    "    valoresAnteriores = np.append(valoresAnteriores, nAnteriores(Hz))\n",
    "    valoresAnteriores = np.append(valoresAnteriores, Hz)\n",
    "    return valoresAnteriores\n",
    "\n",
    "def vSiguientes(Hz):\n",
    "    valoresSiguientes = np.array([], dtype=float)\n",
    "    valoresSiguientes = np.append(valoresSiguientes, nSiguientes(Hz))\n",
    "    return valoresSiguientes\n",
    "\n",
    "#Funcion para el guardado automatico de las frecuencias en un array.\n",
    "\n",
    "def LlenadoAutomaticoDeHz(Hz):\n",
    "    allHz = np.array([], dtype=float)\n",
    "    allHz = np.append(allHz, vAnteriores(Hz))\n",
    "    allHz = np.append(allHz, vSiguientes(Hz))\n",
    "    return allHz\n",
    "\n",
    "def RedondeoAutomatico(Hz):\n",
    "    valores = np.array([], dtype=float)\n",
    "    for i in range(len(Hz)):\n",
    "        valores = np.append(valores, round(Hz[i], 3))\n",
    "    return valores"
   ]
  },
  {
   "cell_type": "code",
   "execution_count": 13,
   "metadata": {},
   "outputs": [
    {
     "data": {
      "image/png": "[encoded data removed]",
      "text/plain": [
       "<Figure size 432x288 with 1 Axes>"
      ]
     },
     "metadata": {
      "needs_background": "light"
     },
     "output_type": "display_data"
    },
    {
     "data": {
      "image/png": "[encoded data removed]",
      "text/plain": [
       "<Figure size 432x288 with 1 Axes>"
      ]
     },
     "metadata": {
      "needs_background": "light"
     },
     "output_type": "display_data"
    }
   ],
   "source": [
    "import numpy as np\n",
    "import matplotlib\n",
    "import matplotlib.pyplot as plt\n",
    "\n",
    "#Definicion de la primera frecuencia de cada nota musical y del array con los nombre de las notas.\n",
    "\n",
    "hzInicialFa = 21.826            \n",
    "hzInicialFaS = 23.125           \n",
    "hzInicialSol = 24.50            \n",
    "hzInicialSolS = 25.96\n",
    "hzInicialLa = 27.50\n",
    "hzInicialLaS = 29.14\n",
    "hzInicialSi = 30.87\n",
    "hzInicialDo = 32.7              \n",
    "hzInicialDoS = 34.65\n",
    "hzInicialRe = 36.71\n",
    "hzInicialReS = 38.89\n",
    "hzInicialMi = 41.2\n",
    "\n",
    "hzIniciales = np.array([hzInicialFa, hzInicialFaS, hzInicialSol, hzInicialSolS, hzInicialLa, hzInicialLaS, hzInicialSi, hzInicialDo, hzInicialDoS, hzInicialRe, hzInicialReS, hzInicialMi], dtype=float)\n",
    "\n",
    "nombreNota = np.array(['Fa','Fa#','Sol','Sol#','La','La#','Si','Do','Do#','Re','Re#','Mi'], dtype = str)\n",
    "\n",
    "#Frecuencias de Fa, Fa# y Sol\n",
    "FaFaSSolHz = np.array([], dtype=float)\n",
    "for i in range(3):                                                          #Tomo las notas Fa, Fa# y Sol\n",
    "    for j in range(9):                                                      \n",
    "        Hz2 = hzIniciales[i] * (2 ** j)                                     #Multiplico por 2 para que sean las notas de la octava superior\n",
    "        FaFaSSolHz = np.append(FaFaSSolHz, LlenadoAutomaticoDeHz(Hz2))\n",
    "        FaFaSSolHz = RedondeoAutomatico(FaFaSSolHz)\n",
    "\n",
    "#Frecuencias de Sol#, La, La#, Si, Do, Do#, Re, Re#, Mi\n",
    "allHz = np.array([], dtype=float)\n",
    "for i in range(3, 12):\n",
    "    for j in range(8):\n",
    "        Hz2 = hzIniciales[i] * (2 ** j)\n",
    "        allHz = np.append(allHz, LlenadoAutomaticoDeHz(Hz2))\n",
    "        allHz = RedondeoAutomatico(allHz)\n",
    "\n",
    "#Ingreso de las frecuencias en los array de las notas Fa, Fa#, Sol\n",
    "# 99 valores en total para cada nota.\n",
    "\n",
    "total = 99\n",
    "\n",
    "FaHz = np.array([], dtype=float)\n",
    "for i in range(total):\n",
    "    FaHz = np.append(FaHz, FaFaSSolHz[i])\n",
    "\n",
    "FaSHz = np.array([], dtype=float)\n",
    "for i in range(total, total*2):\n",
    "    FaSHz = np.append(FaSHz, FaFaSSolHz[i])\n",
    "\n",
    "SolHz = np.array([], dtype=float)\n",
    "for i in range(total*2, total*3):\n",
    "    SolHz = np.append(SolHz, FaFaSSolHz[i])\n",
    "\n",
    "#Ingreso de las frecuencias en los array de las notas Sol#, La, La#, Si, Do, Do#, Re, Re#, Mi\n",
    "# 88 valores en total para cada nota.\n",
    "\n",
    "total2 = 88\n",
    "\n",
    "SolSHz = np.array([], dtype=float)\n",
    "for i in range(total2):\n",
    "    SolSHz = np.append(SolSHz, allHz[i])\n",
    "\n",
    "LaHz = np.array([], dtype=float)\n",
    "for i in range(total2, total2*2):\n",
    "    LaHz = np.append(LaHz, allHz[i])\n",
    "\n",
    "LaSHz = np.array([], dtype=float)\n",
    "for i in range(total2*2, total2*3):\n",
    "    LaSHz = np.append(LaSHz, allHz[i])\n",
    "\n",
    "SiHz = np.array([], dtype=float)\n",
    "for i in range(total2*3, total2*4):\n",
    "    SiHz = np.append(SiHz, allHz[i])\n",
    "\n",
    "DoHz = np.array([], dtype=float)\n",
    "for i in range(total2*4, total2*5):\n",
    "    DoHz = np.append(DoHz, allHz[i])\n",
    "\n",
    "DoSHz = np.array([], dtype=float)\n",
    "for i in range(total2*5, total2*6):\n",
    "    DoSHz = np.append(DoSHz, allHz[i])\n",
    "\n",
    "ReHz = np.array([], dtype=float)\n",
    "for i in range(total2*6, total2*7):\n",
    "    ReHz = np.append(ReHz, allHz[i])\n",
    "\n",
    "ReSHz = np.array([], dtype=float)\n",
    "for i in range(total2*7, total2*8):\n",
    "    ReSHz = np.append(ReSHz, allHz[i])\n",
    "\n",
    "MiHz = np.array([], dtype=float)\n",
    "for i in range(total2*8, total2*9):\n",
    "    MiHz = np.append(MiHz, allHz[i])\n",
    "\n",
    "\n",
    "ejeX = np.array([0,1,2,3,4,5,6,7,8,9,10,11], dtype=float)\n",
    "ejeY = np.array([\"Do\", \"Do#\", \"Re\", \"Re#\", \"Mi\", \"Fa\", \"Fa#\", \"Sol\", \"Sol#\", \"La\", \"La#\", \"Si\"], dtype=str)\n",
    "\n",
    "\n",
    "grafico = plt.plot(ejeX, ejeY)\n",
    "#mostrar grafico\n",
    "plt.show()\n",
    "\n",
    "grafico2 = plt.plot(ejeY, ejeX)\n",
    "#mostrar grafico\n",
    "plt.show()"
   ]
  }
 ],
 "metadata": {
  "interpreter": {
   "hash": "daf41a7fa47107aff3fc31082ab275bb84b57ea5f8287273957bb5ae1e2c51d0"
  },
  "kernelspec": {
   "display_name": "Python 3.10.4 64-bit (windows store)",
   "language": "python",
   "name": "python3"
  },
  "language_info": {
   "codemirror_mode": {
    "name": "ipython",
    "version": 3
   },
   "file_extension": ".py",
   "mimetype": "text/x-python",
   "name": "python",
   "nbconvert_exporter": "python",
   "pygments_lexer": "ipython3",
   "version": "3.10.4"
  },
  "orig_nbformat": 4
 },
 "nbformat": 4,
 "nbformat_minor": 2
}
