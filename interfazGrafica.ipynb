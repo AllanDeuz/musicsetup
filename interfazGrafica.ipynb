{
 "cells": [
  {
   "cell_type": "code",
   "execution_count": 70,
   "metadata": {},
   "outputs": [],
   "source": [
    "import tkinter.font as tkFont\n",
    "from tkinter import *\n",
    "from tkinter import ttk"
   ]
  },
  {
   "cell_type": "code",
   "execution_count": 195,
   "metadata": {},
   "outputs": [],
   "source": [
    "class App:\n",
    "\n",
    "    def __init__(self, window):\n",
    "\n",
    "        self.window = window\n",
    "        self.window.title(\"musicSetup\")\n",
    "        #Crear contenedor frame\n",
    "        frame = LabelFrame(self.window, text= \"Elige una opcion\")\n",
    "        frame.grid(row=0, column=0, padx=10, pady=10)\n",
    "\n",
    "\n",
    "        #Opcion determinar nota musical\n",
    "        opc1 = ttk.Button(frame, text=\"Determinar notas musicales\", command=saludar).grid(row = 3, column = 0, ipadx=20, ipady=20, padx=100, pady=50)\n",
    "        self.opc1 = opc1\n",
    "        #Opcion acerca de\n",
    "        opc2 = ttk.Button(frame, text=\"Acerca de\", command=acercaDe).grid(row = 4, column = 0, ipadx= 10, ipady=10, padx=100, pady=50)\n",
    "        self.opc2 = opc2\n",
    "\n",
    "if __name__ == \"__main__\":\n",
    "\n",
    "    #Definicion de funciones\n",
    "\n",
    "    def saludar ():\n",
    "        Label(window, text=\"HOLAAA\", font=(\"Arial\", 11)).grid(row=3, column=0, padx=10, pady=10)\n",
    "\n",
    "    def acercaDe ():\n",
    "        #cambiar la ventana a color rojo\n",
    "        window.configure(background='blue')\n",
    "        #escribir en pantalla: Allan Arroyo y eliminar lo demas\n",
    "        texto = Label(window, text=\"Desarrollador\", font=(\"Arial\", 20)).grid(row=1, column=0, padx=10, pady=10)\n",
    "        texto2 = Label(window, text=\"Allan Arroyo\", font=(\"Arial\", 20)).grid(row=2, column=0, padx=10, pady=10)\n",
    "    #Crear la ventana\n",
    "\n",
    "    window = Tk()\n",
    "    #tamaño de la ventana\n",
    "    window.geometry(\"800x500\")\n",
    "    #posicion vertical\n",
    "    window.grid_rowconfigure(0, weight=1)\n",
    "    #posicion horizontal\n",
    "    window.grid_columnconfigure(0, weight=1)\n",
    "\n",
    "    application = App(window)\n",
    "    window.mainloop()\n"
   ]
  }
 ],
 "metadata": {
  "interpreter": {
   "hash": "daf41a7fa47107aff3fc31082ab275bb84b57ea5f8287273957bb5ae1e2c51d0"
  },
  "kernelspec": {
   "display_name": "Python 3.10.4 64-bit (windows store)",
   "language": "python",
   "name": "python3"
  },
  "language_info": {
   "codemirror_mode": {
    "name": "ipython",
    "version": 3
   },
   "file_extension": ".py",
   "mimetype": "text/x-python",
   "name": "python",
   "nbconvert_exporter": "python",
   "pygments_lexer": "ipython3",
   "version": "3.10.4"
  },
  "orig_nbformat": 4
 },
 "nbformat": 4,
 "nbformat_minor": 2
}
