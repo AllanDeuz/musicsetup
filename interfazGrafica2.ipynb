{
 "cells": [
  {
   "cell_type": "code",
   "execution_count": 1,
   "metadata": {},
   "outputs": [],
   "source": [
    "import sys\n",
    "from PyQt5 import uic\n",
    "from PyQt5.QtWidgets import QApplication, QMainWindow"
   ]
  },
  {
   "cell_type": "code",
   "execution_count": 2,
   "metadata": {},
   "outputs": [
    {
     "ename": "SystemExit",
     "evalue": "0",
     "output_type": "error",
     "traceback": [
      "An exception has occurred, use %tb to see the full traceback.\n",
      "\u001b[1;31mSystemExit\u001b[0m\u001b[1;31m:\u001b[0m 0\n"
     ]
    },
    {
     "name": "stderr",
     "output_type": "stream",
     "text": [
      "C:\\Users\\Usuario\\AppData\\Local\\Packages\\PythonSoftwareFoundation.Python.3.10_qbz5n2kfra8p0\\LocalCache\\local-packages\\Python310\\site-packages\\IPython\\core\\interactiveshell.py:3405: UserWarning: To exit: use 'exit', 'quit', or Ctrl-D.\n",
      "  warn(\"To exit: use 'exit', 'quit', or Ctrl-D.\", stacklevel=1)\n"
     ]
    }
   ],
   "source": [
    "class musicSetup_GUI(QMainWindow):\n",
    "    def __init__(self):\n",
    "        super().__init__()\n",
    "        uic.loadUi('gui.ui', self)\n",
    "\n",
    "        #volver invisible el boton\n",
    "        self.label.setVisible(False)\n",
    "        self.label_2.setVisible(False)\n",
    "        self.label_3.setVisible(False)\n",
    "        self.label_4.setVisible(False)\n",
    "        self.label_5.setVisible(False)\n",
    "        self.graficoVoz.setVisible(False)\n",
    "        self.graficoFFT.setVisible(False)\n",
    "        self.graficoFrecuencia.setVisible(False)\n",
    "\n",
    "        #Botones\n",
    "        self.BdetectarNota.clicked.connect(self.detectarNotas)\n",
    "        self.BacercaDe.clicked.connect(self.acercaDe)\n",
    "\n",
    "    def detectarNotas(self):\n",
    "        self.label.setVisible(True)\n",
    "        self.label_2.setVisible(True)\n",
    "        self.label_3.setVisible(True)\n",
    "        self.label_4.setVisible(True)\n",
    "        self.label_5.setVisible(True)\n",
    "        self.graficoVoz.setVisible(True)\n",
    "        self.graficoFFT.setVisible(True)\n",
    "        self.graficoFrecuencia.setVisible(True)\n",
    "        self.BdetectarNota.setVisible(False)\n",
    "        self.BacercaDe.setEnabled(True)\n",
    "    \n",
    "    def acercaDe(self):\n",
    "        self.label.setVisible(False)\n",
    "        self.label_2.setVisible(False)\n",
    "        self.label_3.setVisible(False)\n",
    "        self.label_4.setVisible(False)\n",
    "        self.label_5.setVisible(False)\n",
    "        self.graficoVoz.setVisible(False)\n",
    "        self.graficoFFT.setVisible(False)\n",
    "        self.graficoFrecuencia.setVisible(False)\n",
    "        self.BdetectarNota.setVisible(True)\n",
    "        self.BacercaDe.setEnabled(False)\n",
    "\n",
    "if __name__ == '__main__':\n",
    "    app = QApplication(sys.argv)\n",
    "    window = musicSetup_GUI()\n",
    "    window.show()\n",
    "    sys.exit(app.exec_())"
   ]
  },
  {
   "cell_type": "code",
   "execution_count": 20,
   "metadata": {},
   "outputs": [
    {
     "data": {
      "image/png": "[encoded data removed]",
      "text/plain": [
       "<Figure size 432x288 with 1 Axes>"
      ]
     },
     "metadata": {
      "needs_background": "light"
     },
     "output_type": "display_data"
    }
   ],
   "source": [
    "import numpy as np\n",
    "import matplotlib\n",
    "import matplotlib.pyplot as plt\n",
    "\n",
    "ejeX = np.array([0,1,2,3,4], dtype=int)\n",
    "ejeY = np.array([\"a\", \"b\", \"c\", \"d\", \"e\"], dtype=str)\n",
    "\n",
    "\n",
    "plt.plot(ejeX, ejeY)\n",
    "\n",
    "plt.show()\n"
   ]
  }
 ],
 "metadata": {
  "interpreter": {
   "hash": "daf41a7fa47107aff3fc31082ab275bb84b57ea5f8287273957bb5ae1e2c51d0"
  },
  "kernelspec": {
   "display_name": "Python 3.10.4 64-bit (windows store)",
   "language": "python",
   "name": "python3"
  },
  "language_info": {
   "codemirror_mode": {
    "name": "ipython",
    "version": 3
   },
   "file_extension": ".py",
   "mimetype": "text/x-python",
   "name": "python",
   "nbconvert_exporter": "python",
   "pygments_lexer": "ipython3",
   "version": "3.10.4"
  },
  "orig_nbformat": 4
 },
 "nbformat": 4,
 "nbformat_minor": 2
}
