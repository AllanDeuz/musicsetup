{
 "cells": [
  {
   "cell_type": "code",
   "execution_count": 11,
   "metadata": {},
   "outputs": [],
   "source": [
    "import numpy as np\n",
    "import scipy.fftpack as fourier\n",
    "import matplotlib\n",
    "import matplotlib.pyplot as plt\n",
    "import scipy.io.wavfile as waves\n",
    "import pyaudio as pa \n",
    "import struct \n",
    "import statsmodels.api as sm\n",
    "from scipy.signal import find_peaks"
   ]
  },
  {
   "cell_type": "code",
   "execution_count": null,
   "metadata": {},
   "outputs": [],
   "source": [
    "hzInicialFa = 21.826            \n",
    "hzInicialFaS = 23.125           \n",
    "hzInicialSol = 24.50            \n",
    "hzInicialSolS = 25.96\n",
    "hzInicialLa = 27.50\n",
    "hzInicialLaS = 29.14\n",
    "hzInicialSi = 30.87\n",
    "hzInicialDo = 32.7              \n",
    "hzInicialDoS = 34.65\n",
    "hzInicialRe = 36.71\n",
    "hzInicialReS = 38.89\n",
    "hzInicialMi = 41.2\n",
    "\n",
    "hzIniciales = np.array([hzInicialFa, hzInicialFaS, hzInicialSol, hzInicialSolS, hzInicialLa, hzInicialLaS, hzInicialSi, hzInicialDo, hzInicialDoS, hzInicialRe, hzInicialReS, hzInicialMi], dtype=float)\n",
    "\n",
    "nombreNota = np.array(['Fa','Fa#','Sol','Sol#','La','La#','Si','Do','Do#','Re','Re#','Mi'], dtype = str)"
   ]
  }
 ],
 "metadata": {
  "interpreter": {
   "hash": "e73b0adf4abf1290984411b7e0f7e5c2e85a880195fc8ae108d0876d6497b4f3"
  },
  "kernelspec": {
   "display_name": "Python 3.10.4 64-bit",
   "language": "python",
   "name": "python3"
  },
  "language_info": {
   "codemirror_mode": {
    "name": "ipython",
    "version": 3
   },
   "file_extension": ".py",
   "mimetype": "text/x-python",
   "name": "python",
   "nbconvert_exporter": "python",
   "pygments_lexer": "ipython3",
   "version": "3.10.4"
  },
  "orig_nbformat": 4
 },
 "nbformat": 4,
 "nbformat_minor": 2
}
