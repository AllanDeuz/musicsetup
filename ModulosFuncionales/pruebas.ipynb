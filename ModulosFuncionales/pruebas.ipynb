{
 "cells": [
  {
   "cell_type": "code",
   "execution_count": 6,
   "metadata": {},
   "outputs": [
    {
     "name": "stdout",
     "output_type": "stream",
     "text": [
      "False\n",
      "True\n",
      "u is True\n"
     ]
    }
   ],
   "source": [
    "v = False\n",
    "print(v)\n",
    "u = not v\n",
    "print(u)\n",
    "\n",
    "if v:\n",
    "    print(\"v is True\")\n",
    "elif u:\n",
    "    print(\"u is True\")"
   ]
  },
  {
   "cell_type": "code",
   "execution_count": 15,
   "metadata": {},
   "outputs": [
    {
     "name": "stdout",
     "output_type": "stream",
     "text": [
      "['In', 'Out', '_', '__', '___', '__builtin__', '__builtins__', '__doc__', '__loader__', '__name__', '__package__', '__spec__', '__vsc_ipynb_file__', '_dh', '_i', '_i1', '_i10', '_i11', '_i12', '_i13', '_i14', '_i15', '_i2', '_i3', '_i4', '_i5', '_i6', '_i7', '_i8', '_i9', '_ih', '_ii', '_iii', '_oh', 'abspath', 'dirname', 'exit', 'get_ipython', 'os', 'quit', 'sys', 'u', 'v']\n"
     ]
    },
    {
     "ename": "NameError",
     "evalue": "name 'hzType' is not defined",
     "output_type": "error",
     "traceback": [
      "\u001b[1;31m---------------------------------------------------------------------------\u001b[0m",
      "\u001b[1;31mNameError\u001b[0m                                 Traceback (most recent call last)",
      "\u001b[1;32md:\\Universidad\\2022-1\\Taller de desarrollo\\musicSetup v1\\pruebas.ipynb Cell 2'\u001b[0m in \u001b[0;36m<cell line: 2>\u001b[1;34m()\u001b[0m\n\u001b[0;32m      <a href='vscode-notebook-cell:/d%3A/Universidad/2022-1/Taller%20de%20desarrollo/musicSetup%20v1/pruebas.ipynb#ch0000003?line=0'>1</a>\u001b[0m \u001b[39mprint\u001b[39m(\u001b[39mdir\u001b[39m())\n\u001b[1;32m----> <a href='vscode-notebook-cell:/d%3A/Universidad/2022-1/Taller%20de%20desarrollo/musicSetup%20v1/pruebas.ipynb#ch0000003?line=1'>2</a>\u001b[0m \u001b[39mdir\u001b[39m()\u001b[39m.\u001b[39mappend(hzType)\n\u001b[0;32m      <a href='vscode-notebook-cell:/d%3A/Universidad/2022-1/Taller%20de%20desarrollo/musicSetup%20v1/pruebas.ipynb#ch0000003?line=2'>3</a>\u001b[0m \u001b[39mprint\u001b[39m(\u001b[39mdir\u001b[39m())\n",
      "\u001b[1;31mNameError\u001b[0m: name 'hzType' is not defined"
     ]
    }
   ],
   "source": [
    "print(dir())\n",
    "dir().append(hzType.py)\n",
    "print(dir())\n"
   ]
  },
  {
   "cell_type": "code",
   "execution_count": 3,
   "metadata": {},
   "outputs": [
    {
     "name": "stdout",
     "output_type": "stream",
     "text": [
      "['d:\\\\Universidad\\\\2022-1\\\\Taller de desarrollo\\\\musicSetup v1', \"d:\\\\Universidad\\\\2022-1\\\\Taller de desarrollo\\\\musicSetup v1\\\\os.path.join(os.path.dirname(__file__), '..', '..', '..')\", 'C:\\\\Program Files\\\\WindowsApps\\\\PythonSoftwareFoundation.Python.3.10_3.10.1520.0_x64__qbz5n2kfra8p0\\\\python310.zip', 'C:\\\\Program Files\\\\WindowsApps\\\\PythonSoftwareFoundation.Python.3.10_3.10.1520.0_x64__qbz5n2kfra8p0\\\\DLLs', 'C:\\\\Program Files\\\\WindowsApps\\\\PythonSoftwareFoundation.Python.3.10_3.10.1520.0_x64__qbz5n2kfra8p0\\\\lib', 'C:\\\\Users\\\\Usuario\\\\AppData\\\\Local\\\\Microsoft\\\\WindowsApps\\\\PythonSoftwareFoundation.Python.3.10_qbz5n2kfra8p0', '', 'C:\\\\Users\\\\Usuario\\\\AppData\\\\Local\\\\Packages\\\\PythonSoftwareFoundation.Python.3.10_qbz5n2kfra8p0\\\\LocalCache\\\\local-packages\\\\Python310\\\\site-packages', 'C:\\\\Users\\\\Usuario\\\\AppData\\\\Local\\\\Packages\\\\PythonSoftwareFoundation.Python.3.10_qbz5n2kfra8p0\\\\LocalCache\\\\local-packages\\\\Python310\\\\site-packages\\\\win32', 'C:\\\\Users\\\\Usuario\\\\AppData\\\\Local\\\\Packages\\\\PythonSoftwareFoundation.Python.3.10_qbz5n2kfra8p0\\\\LocalCache\\\\local-packages\\\\Python310\\\\site-packages\\\\win32\\\\lib', 'C:\\\\Users\\\\Usuario\\\\AppData\\\\Local\\\\Packages\\\\PythonSoftwareFoundation.Python.3.10_qbz5n2kfra8p0\\\\LocalCache\\\\local-packages\\\\Python310\\\\site-packages\\\\Pythonwin', 'C:\\\\Program Files\\\\WindowsApps\\\\PythonSoftwareFoundation.Python.3.10_3.10.1520.0_x64__qbz5n2kfra8p0', 'C:\\\\Program Files\\\\WindowsApps\\\\PythonSoftwareFoundation.Python.3.10_3.10.1520.0_x64__qbz5n2kfra8p0\\\\lib\\\\site-packages', 'd:/Universidad/2022-1/Taller de desarrollo/musicSetup v1/StartupFunctions', 'd:/Universidad/2022-1/Taller de desarrollo/musicSetup v1/NoteDetectionFunctions']\n"
     ]
    }
   ],
   "source": [
    "import sys\n",
    "sys.path.append(\"d:/Universidad/2022-1/Taller de desarrollo/musicSetup v1/StartupFunctions\")\n",
    "sys.path.append(\"d:/Universidad/2022-1/Taller de desarrollo/musicSetup v1/NoteDetectionFunctions\")\n",
    "print(sys.path)"
   ]
  },
  {
   "cell_type": "code",
   "execution_count": 7,
   "metadata": {},
   "outputs": [
    {
     "ename": "TypeError",
     "evalue": "'function' object is not subscriptable",
     "output_type": "error",
     "traceback": [
      "\u001b[1;31m---------------------------------------------------------------------------\u001b[0m",
      "\u001b[1;31mTypeError\u001b[0m                                 Traceback (most recent call last)",
      "\u001b[1;32md:\\Universidad\\2022-1\\Taller de desarrollo\\musicSetup v1\\pruebas.ipynb Cell 4'\u001b[0m in \u001b[0;36m<cell line: 6>\u001b[1;34m()\u001b[0m\n\u001b[0;32m      <a href='vscode-notebook-cell:/d%3A/Universidad/2022-1/Taller%20de%20desarrollo/musicSetup%20v1/pruebas.ipynb#ch0000003?line=3'>4</a>\u001b[0m aux \u001b[39m=\u001b[39m np\u001b[39m.\u001b[39marray([], dtype\u001b[39m=\u001b[39m\u001b[39mfloat\u001b[39m)\n\u001b[0;32m      <a href='vscode-notebook-cell:/d%3A/Universidad/2022-1/Taller%20de%20desarrollo/musicSetup%20v1/pruebas.ipynb#ch0000003?line=4'>5</a>\u001b[0m valor \u001b[39m=\u001b[39m np\u001b[39m.\u001b[39marray([], dtype\u001b[39m=\u001b[39m\u001b[39mfloat\u001b[39m)\n\u001b[1;32m----> <a href='vscode-notebook-cell:/d%3A/Universidad/2022-1/Taller%20de%20desarrollo/musicSetup%20v1/pruebas.ipynb#ch0000003?line=5'>6</a>\u001b[0m valor \u001b[39m=\u001b[39m hzc\u001b[39m.\u001b[39;49mcluster1[\u001b[39m1\u001b[39;49m]\n\u001b[0;32m      <a href='vscode-notebook-cell:/d%3A/Universidad/2022-1/Taller%20de%20desarrollo/musicSetup%20v1/pruebas.ipynb#ch0000003?line=6'>7</a>\u001b[0m aux \u001b[39m=\u001b[39m np\u001b[39m.\u001b[39mappend(aux, valor)\n\u001b[0;32m      <a href='vscode-notebook-cell:/d%3A/Universidad/2022-1/Taller%20de%20desarrollo/musicSetup%20v1/pruebas.ipynb#ch0000003?line=8'>9</a>\u001b[0m \u001b[39mprint\u001b[39m(aux)\n",
      "\u001b[1;31mTypeError\u001b[0m: 'function' object is not subscriptable"
     ]
    }
   ],
   "source": [
    "import numpy as np\n",
    "import hzClustering as hzc\n",
    "\n",
    "aux = np.array([], dtype=float)\n",
    "valor = np.array([], dtype=float)\n",
    "valor = hzc.cluster1[1]\n",
    "aux = np.append(aux, valor)\n",
    "\n",
    "print(aux)\n"
   ]
  }
 ],
 "metadata": {
  "kernelspec": {
   "display_name": "Python 3.10.5 64-bit (windows store)",
   "language": "python",
   "name": "python3"
  },
  "language_info": {
   "codemirror_mode": {
    "name": "ipython",
    "version": 3
   },
   "file_extension": ".py",
   "mimetype": "text/x-python",
   "name": "python",
   "nbconvert_exporter": "python",
   "pygments_lexer": "ipython3",
   "version": "3.10.5"
  },
  "orig_nbformat": 4,
  "vscode": {
   "interpreter": {
    "hash": "f8ca15d83b6fb72cece3edcf60f6aa40d2cbdeb5c60e0f188ff8c7c65828fd00"
   }
  }
 },
 "nbformat": 4,
 "nbformat_minor": 2
}
